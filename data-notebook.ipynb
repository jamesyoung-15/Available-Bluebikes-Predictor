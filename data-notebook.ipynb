{
 "cells": [
  {
   "cell_type": "markdown",
   "metadata": {},
   "source": [
    "# Available Bluebikes Predictor"
   ]
  },
  {
   "cell_type": "markdown",
   "metadata": {},
   "source": [
    "My hobby project to predict the number of available bluebikes in 3 stations near my home using historical trip data and weather data"
   ]
  },
  {
   "cell_type": "code",
   "execution_count": 1,
   "metadata": {},
   "outputs": [],
   "source": [
    "import pandas as pd\n",
    "import numpy as np\n",
    "import matplotlib.pyplot as plt\n",
    "import matplotlib.dates as mdates\n",
    "import seaborn as sns\n",
    "from datetime import datetime\n",
    "import os\n",
    "from trip_data import get_data"
   ]
  },
  {
   "cell_type": "markdown",
   "metadata": {},
   "source": [
    "## Extract and Combine Historical Bluebike Trip Data"
   ]
  },
  {
   "cell_type": "markdown",
   "metadata": {},
   "source": [
    "Trip data consists of all Bluebike trips from Dec. 2023 to Jan. 2025."
   ]
  },
  {
   "cell_type": "code",
   "execution_count": 2,
   "metadata": {},
   "outputs": [],
   "source": [
    "# init data and download trip data csv files\n",
    "\n",
    "data_path = './trip_data'\n",
    "\n",
    "# trip data range, currently using 2023 Dec to 2025 Jan\n",
    "start_year = 2023\n",
    "end_year = 2025\n",
    "start_month = 12\n",
    "end_month = 1\n",
    "start_date = datetime(start_year, start_month, 1)\n",
    "end_date = datetime(end_year, end_month, 1)\n",
    "current_date = start_date\n",
    "\n",
    "# weather csv filename\n",
    "weather_csv = f\"{start_date.strftime('%Y%m%d')}-{datetime(end_date.year, end_month+1, 1).strftime('%Y%m%d')}-weather-data.csv\""
   ]
  },
  {
   "cell_type": "code",
   "execution_count": 3,
   "metadata": {},
   "outputs": [
    {
     "name": "stdout",
     "output_type": "stream",
     "text": [
      "Downloading weather data from OpenMeteo...\n",
      "Downloaded weather data: ./trip_data/20231201-20250201-weather-data.csv\n"
     ]
    }
   ],
   "source": [
    "get_data.get_weather_data(start_year, start_month, end_year, end_month+1, data_path)"
   ]
  },
  {
   "cell_type": "code",
   "execution_count": 6,
   "metadata": {},
   "outputs": [
    {
     "name": "stdout",
     "output_type": "stream",
     "text": [
      "https://s3.amazonaws.com/hubway-data/202312-bluebikes-tripdata.zip\n",
      "Downloading: https://s3.amazonaws.com/hubway-data/202312-bluebikes-tripdata.zip\n",
      "Downloaded: ./trip_data/202312-bluebikes-tripdata.zip\n",
      "Extracted: 202312-bluebikes-tripdata.csv to ./trip_data\n",
      "Deleted zip file: ./trip_data/202312-bluebikes-tripdata.zip\n",
      "https://s3.amazonaws.com/hubway-data/202401-bluebikes-tripdata.zip\n",
      "Downloading: https://s3.amazonaws.com/hubway-data/202401-bluebikes-tripdata.zip\n",
      "Downloaded: ./trip_data/202401-bluebikes-tripdata.zip\n",
      "Extracted: 202401-bluebikes-tripdata.csv to ./trip_data\n",
      "Deleted zip file: ./trip_data/202401-bluebikes-tripdata.zip\n",
      "https://s3.amazonaws.com/hubway-data/202402-bluebikes-tripdata.zip\n",
      "Downloading: https://s3.amazonaws.com/hubway-data/202402-bluebikes-tripdata.zip\n",
      "Downloaded: ./trip_data/202402-bluebikes-tripdata.zip\n",
      "Extracted: 202402-bluebikes-tripdata.csv to ./trip_data\n",
      "Deleted zip file: ./trip_data/202402-bluebikes-tripdata.zip\n",
      "https://s3.amazonaws.com/hubway-data/202403-bluebikes-tripdata.zip\n",
      "Downloading: https://s3.amazonaws.com/hubway-data/202403-bluebikes-tripdata.zip\n",
      "Downloaded: ./trip_data/202403-bluebikes-tripdata.zip\n",
      "Extracted: 202403-bluebikes-tripdata.csv to ./trip_data\n",
      "Deleted zip file: ./trip_data/202403-bluebikes-tripdata.zip\n",
      "https://s3.amazonaws.com/hubway-data/202404-bluebikes-tripdata.zip\n",
      "Downloading: https://s3.amazonaws.com/hubway-data/202404-bluebikes-tripdata.zip\n",
      "Downloaded: ./trip_data/202404-bluebikes-tripdata.zip\n",
      "Extracted: 202404-bluebikes-tripdata.csv to ./trip_data\n",
      "Deleted zip file: ./trip_data/202404-bluebikes-tripdata.zip\n",
      "https://s3.amazonaws.com/hubway-data/202405-bluebikes-tripdata.zip\n",
      "Downloading: https://s3.amazonaws.com/hubway-data/202405-bluebikes-tripdata.zip\n",
      "Downloaded: ./trip_data/202405-bluebikes-tripdata.zip\n",
      "Extracted: 202405-bluebikes-tripdata.csv to ./trip_data\n",
      "Deleted zip file: ./trip_data/202405-bluebikes-tripdata.zip\n",
      "https://s3.amazonaws.com/hubway-data/202406-bluebikes-tripdata.zip\n",
      "Downloading: https://s3.amazonaws.com/hubway-data/202406-bluebikes-tripdata.zip\n",
      "Downloaded: ./trip_data/202406-bluebikes-tripdata.zip\n",
      "Extracted: 202406-bluebikes-tripdata.csv to ./trip_data\n",
      "Deleted zip file: ./trip_data/202406-bluebikes-tripdata.zip\n",
      "https://s3.amazonaws.com/hubway-data/202407-bluebikes-tripdata.zip\n",
      "Downloading: https://s3.amazonaws.com/hubway-data/202407-bluebikes-tripdata.zip\n",
      "Downloaded: ./trip_data/202407-bluebikes-tripdata.zip\n",
      "Extracted: 202407-bluebikes-tripdata.csv to ./trip_data\n",
      "Deleted zip file: ./trip_data/202407-bluebikes-tripdata.zip\n",
      "https://s3.amazonaws.com/hubway-data/202408-bluebikes-tripdata.zip\n",
      "Downloading: https://s3.amazonaws.com/hubway-data/202408-bluebikes-tripdata.zip\n",
      "Downloaded: ./trip_data/202408-bluebikes-tripdata.zip\n",
      "Extracted: 202408-bluebikes-tripdata.csv to ./trip_data\n",
      "Deleted zip file: ./trip_data/202408-bluebikes-tripdata.zip\n",
      "https://s3.amazonaws.com/hubway-data/202409-bluebikes-tripdata.zip\n",
      "Downloading: https://s3.amazonaws.com/hubway-data/202409-bluebikes-tripdata.zip\n",
      "Downloaded: ./trip_data/202409-bluebikes-tripdata.zip\n",
      "Extracted: 202409-bluebikes-tripdata.csv to ./trip_data\n",
      "Deleted zip file: ./trip_data/202409-bluebikes-tripdata.zip\n",
      "https://s3.amazonaws.com/hubway-data/202410-bluebikes-tripdata.zip\n",
      "Downloading: https://s3.amazonaws.com/hubway-data/202410-bluebikes-tripdata.zip\n",
      "Downloaded: ./trip_data/202410-bluebikes-tripdata.zip\n",
      "Extracted: 202410-bluebikes-tripdata.csv to ./trip_data\n",
      "Deleted zip file: ./trip_data/202410-bluebikes-tripdata.zip\n",
      "https://s3.amazonaws.com/hubway-data/202411-bluebikes-tripdata.zip\n",
      "Downloading: https://s3.amazonaws.com/hubway-data/202411-bluebikes-tripdata.zip\n",
      "Downloaded: ./trip_data/202411-bluebikes-tripdata.zip\n",
      "Extracted: 202411-bluebikes-tripdata.csv to ./trip_data\n",
      "Deleted zip file: ./trip_data/202411-bluebikes-tripdata.zip\n",
      "https://s3.amazonaws.com/hubway-data/202412-bluebikes-tripdata.zip\n",
      "Downloading: https://s3.amazonaws.com/hubway-data/202412-bluebikes-tripdata.zip\n",
      "Downloaded: ./trip_data/202412-bluebikes-tripdata.zip\n",
      "Extracted: 202412-bluebikes-tripdata.csv to ./trip_data\n",
      "Deleted zip file: ./trip_data/202412-bluebikes-tripdata.zip\n",
      "https://s3.amazonaws.com/hubway-data/202501-bluebikes-tripdata.zip\n",
      "Downloading: https://s3.amazonaws.com/hubway-data/202501-bluebikes-tripdata.zip\n",
      "Downloaded: ./trip_data/202501-bluebikes-tripdata.zip\n",
      "Extracted: 202501-bluebikes-tripdata.csv to ./trip_data\n",
      "Deleted zip file: ./trip_data/202501-bluebikes-tripdata.zip\n"
     ]
    }
   ],
   "source": [
    "get_data.get_bluebikes_trip_data(start_year,start_month,end_year,end_month,data_path)"
   ]
  },
  {
   "cell_type": "markdown",
   "metadata": {},
   "source": [
    "## Weather Data"
   ]
  },
  {
   "cell_type": "code",
   "execution_count": 4,
   "metadata": {},
   "outputs": [
    {
     "data": {
      "text/html": [
       "<div>\n",
       "<style scoped>\n",
       "    .dataframe tbody tr th:only-of-type {\n",
       "        vertical-align: middle;\n",
       "    }\n",
       "\n",
       "    .dataframe tbody tr th {\n",
       "        vertical-align: top;\n",
       "    }\n",
       "\n",
       "    .dataframe thead th {\n",
       "        text-align: right;\n",
       "    }\n",
       "</style>\n",
       "<table border=\"1\" class=\"dataframe\">\n",
       "  <thead>\n",
       "    <tr style=\"text-align: right;\">\n",
       "      <th></th>\n",
       "      <th>time</th>\n",
       "      <th>temperature</th>\n",
       "      <th>precipitation</th>\n",
       "    </tr>\n",
       "  </thead>\n",
       "  <tbody>\n",
       "    <tr>\n",
       "      <th>61627</th>\n",
       "      <td>2025-01-31 23:10:00</td>\n",
       "      <td>0.583333</td>\n",
       "      <td>0.966667</td>\n",
       "    </tr>\n",
       "    <tr>\n",
       "      <th>61628</th>\n",
       "      <td>2025-01-31 23:20:00</td>\n",
       "      <td>0.566667</td>\n",
       "      <td>0.933333</td>\n",
       "    </tr>\n",
       "    <tr>\n",
       "      <th>61629</th>\n",
       "      <td>2025-01-31 23:30:00</td>\n",
       "      <td>0.550000</td>\n",
       "      <td>0.900000</td>\n",
       "    </tr>\n",
       "    <tr>\n",
       "      <th>61630</th>\n",
       "      <td>2025-01-31 23:40:00</td>\n",
       "      <td>0.533333</td>\n",
       "      <td>0.866667</td>\n",
       "    </tr>\n",
       "    <tr>\n",
       "      <th>61631</th>\n",
       "      <td>2025-01-31 23:50:00</td>\n",
       "      <td>0.516667</td>\n",
       "      <td>0.833333</td>\n",
       "    </tr>\n",
       "  </tbody>\n",
       "</table>\n",
       "</div>"
      ],
      "text/plain": [
       "                     time  temperature  precipitation\n",
       "61627 2025-01-31 23:10:00     0.583333       0.966667\n",
       "61628 2025-01-31 23:20:00     0.566667       0.933333\n",
       "61629 2025-01-31 23:30:00     0.550000       0.900000\n",
       "61630 2025-01-31 23:40:00     0.533333       0.866667\n",
       "61631 2025-01-31 23:50:00     0.516667       0.833333"
      ]
     },
     "execution_count": 4,
     "metadata": {},
     "output_type": "execute_result"
    }
   ],
   "source": [
    "weather_df = pd.read_csv(data_path + '/' + weather_csv, skiprows=2)\n",
    "\n",
    "# rename columns\n",
    "weather_df = weather_df.rename(columns={\n",
    "    'temperature_2m (°C)': 'temperature',\n",
    "    'precipitation (mm)': 'precipitation',\n",
    "})\n",
    "\n",
    "\n",
    "# convert time to datetime\n",
    "weather_df['time'] = pd.to_datetime(weather_df['time'])\n",
    "\n",
    "# interpolate weather data to 15 min intervals\n",
    "weather_df_interpolated = weather_df.set_index('time').resample('10min').interpolate()\n",
    "\n",
    "# reset index\n",
    "weather_df_interpolated = weather_df_interpolated.reset_index()\n",
    "\n",
    "# drop Feb 1 2025 data\n",
    "weather_df_interpolated = weather_df_interpolated[weather_df_interpolated['time'].dt.date != datetime(2025, 2, 1).date()]\n",
    "\n",
    "\n",
    "weather_df_interpolated.tail()"
   ]
  },
  {
   "cell_type": "markdown",
   "metadata": {},
   "source": [
    "Quick Visualization of Weather"
   ]
  },
  {
   "cell_type": "code",
   "execution_count": 7,
   "metadata": {},
   "outputs": [
    {
     "data": {
      "image/png": "[encoded data removed]",
      "text/plain": [
       "<Figure size 600x300 with 1 Axes>"
      ]
     },
     "metadata": {},
     "output_type": "display_data"
    }
   ],
   "source": [
    "# Plot temperature over time\n",
    "plt.figure(figsize=(6, 3))\n",
    "sns.lineplot(x='time', y='temperature', data=weather_df_interpolated, color='red', label='Temperature')\n",
    "plt.title('Temperature Over Time', fontsize=16)\n",
    "plt.xlabel('Time', fontsize=10)\n",
    "plt.ylabel('Temperature (°C)', fontsize=12)\n",
    "plt.xticks(rotation=45)\n",
    "plt.xlim(start_date, datetime(end_year, end_month+1,1))\n",
    "plt.gca().xaxis.set_major_locator(mdates.MonthLocator(interval=1))\n",
    "plt.legend()\n",
    "plt.grid(visible=True)\n",
    "plt.show()"
   ]
  },
  {
   "cell_type": "code",
   "execution_count": 8,
   "metadata": {},
   "outputs": [
    {
     "data": {
      "image/png": "[encoded data removed]",
      "text/plain": [
       "<Figure size 600x300 with 1 Axes>"
      ]
     },
     "metadata": {},
     "output_type": "display_data"
    }
   ],
   "source": [
    "# Plot temperature over time\n",
    "plt.figure(figsize=(6, 3))\n",
    "sns.lineplot(x='time', y='precipitation', data=weather_df_interpolated, color='blue', label='Temperature')\n",
    "plt.title('Precipitation Over Time', fontsize=16)\n",
    "plt.xlabel('Time', fontsize=10)\n",
    "plt.ylabel('Precipitation (mm)', fontsize=12)\n",
    "plt.xticks(rotation=45)\n",
    "plt.xlim(start_date, datetime(end_year, end_month+1,1))\n",
    "plt.gca().xaxis.set_major_locator(mdates.MonthLocator(interval=1))\n",
    "plt.legend()\n",
    "plt.grid(visible=True)\n",
    "plt.show()"
   ]
  },
  {
   "cell_type": "markdown",
   "metadata": {},
   "source": [
    "## Trip Data"
   ]
  },
  {
   "cell_type": "markdown",
   "metadata": {},
   "source": [
    "Load and combine trip CSVs into one dataframe"
   ]
  },
  {
   "cell_type": "code",
   "execution_count": 9,
   "metadata": {},
   "outputs": [],
   "source": [
    "# combine all trip data into one dataframe\n",
    "data_frames = []\n",
    "\n",
    "current_date = start_date\n",
    "\n",
    "while current_date <= end_date:\n",
    "    file = f\"{current_date.strftime('%Y%m')}-bluebikes-tripdata.csv\"\n",
    "    file_path = os.path.join(data_path, file)\n",
    "    df = pd.read_csv(file_path)\n",
    "    data_frames.append(df)\n",
    "\n",
    "    if current_date.month == 12:\n",
    "            current_date = datetime(current_date.year + 1, 1, 1)\n",
    "    else:\n",
    "        current_date = datetime(current_date.year, current_date.month + 1, 1)\n",
    "\n",
    "trip_data_df = pd.concat(data_frames, ignore_index=True)"
   ]
  },
  {
   "cell_type": "markdown",
   "metadata": {},
   "source": [
    "Filter trips to only include stations near my home"
   ]
  },
  {
   "cell_type": "code",
   "execution_count": 77,
   "metadata": {},
   "outputs": [],
   "source": [
    "# bluebike stations near me\n",
    "# \"A32012\" : \"Packard's Corner - Commonwealth Ave at Brighton Ave\",\n",
    "# \"E32016\" : \"Commonwealth Ave at Naples Rd\",\n",
    "# \"D32035\" : \"Harvard Ave at Brainerd Rd\",\n",
    "stations_of_interest = [\"A32012\", \"E32016\", \"D32035\"]\n",
    "stations_docks = {\n",
    "    \"A32012\" : 26,\n",
    "    \"E32016\" : 19,\n",
    "    \"D32035\" : 19\n",
    "}\n",
    "\n",
    "# filter trips that start or end at my stations\n",
    "filtered_trip_data = trip_data_df[trip_data_df['start_station_id'].isin(stations_of_interest) | trip_data_df['end_station_id'].isin(stations_of_interest)].copy()"
   ]
  },
  {
   "cell_type": "code",
   "execution_count": 78,
   "metadata": {},
   "outputs": [],
   "source": [
    "# remove milliseconds from start and end time\n",
    "filtered_trip_data.loc[:, 'started_at'] = filtered_trip_data.started_at.str[:16]\n",
    "filtered_trip_data.loc[:, 'ended_at'] = filtered_trip_data.ended_at.str[:16]"
   ]
  },
  {
   "cell_type": "code",
   "execution_count": 79,
   "metadata": {},
   "outputs": [
    {
     "data": {
      "text/html": [
       "<div>\n",
       "<style scoped>\n",
       "    .dataframe tbody tr th:only-of-type {\n",
       "        vertical-align: middle;\n",
       "    }\n",
       "\n",
       "    .dataframe tbody tr th {\n",
       "        vertical-align: top;\n",
       "    }\n",
       "\n",
       "    .dataframe thead th {\n",
       "        text-align: right;\n",
       "    }\n",
       "</style>\n",
       "<table border=\"1\" class=\"dataframe\">\n",
       "  <thead>\n",
       "    <tr style=\"text-align: right;\">\n",
       "      <th></th>\n",
       "      <th>ride_id</th>\n",
       "      <th>rideable_type</th>\n",
       "      <th>started_at</th>\n",
       "      <th>ended_at</th>\n",
       "      <th>start_station_name</th>\n",
       "      <th>start_station_id</th>\n",
       "      <th>end_station_name</th>\n",
       "      <th>end_station_id</th>\n",
       "      <th>start_lat</th>\n",
       "      <th>start_lng</th>\n",
       "      <th>end_lat</th>\n",
       "      <th>end_lng</th>\n",
       "      <th>member_casual</th>\n",
       "    </tr>\n",
       "  </thead>\n",
       "  <tbody>\n",
       "    <tr>\n",
       "      <th>28856</th>\n",
       "      <td>C877B624309A9762</td>\n",
       "      <td>classic_bike</td>\n",
       "      <td>2023-12-01 00:05:00</td>\n",
       "      <td>2023-12-01 00:13:00</td>\n",
       "      <td>Packard's Corner - Commonwealth Ave at Brighto...</td>\n",
       "      <td>A32012</td>\n",
       "      <td>700 Commonwealth Ave.</td>\n",
       "      <td>B32060</td>\n",
       "      <td>42.352261</td>\n",
       "      <td>-71.123831</td>\n",
       "      <td>42.349609</td>\n",
       "      <td>-71.103915</td>\n",
       "      <td>casual</td>\n",
       "    </tr>\n",
       "    <tr>\n",
       "      <th>143824</th>\n",
       "      <td>BE6AEA9F1D66A809</td>\n",
       "      <td>classic_bike</td>\n",
       "      <td>2023-12-01 00:12:00</td>\n",
       "      <td>2023-12-01 00:34:00</td>\n",
       "      <td>Tremont St at Hamilton Pl</td>\n",
       "      <td>B32056</td>\n",
       "      <td>Packard's Corner - Commonwealth Ave at Brighto...</td>\n",
       "      <td>A32012</td>\n",
       "      <td>42.356683</td>\n",
       "      <td>-71.061666</td>\n",
       "      <td>42.352261</td>\n",
       "      <td>-71.123831</td>\n",
       "      <td>casual</td>\n",
       "    </tr>\n",
       "    <tr>\n",
       "      <th>9517</th>\n",
       "      <td>E6BE45CE073C3CB6</td>\n",
       "      <td>classic_bike</td>\n",
       "      <td>2023-12-01 00:46:00</td>\n",
       "      <td>2023-12-01 00:51:00</td>\n",
       "      <td>Packard's Corner - Commonwealth Ave at Brighto...</td>\n",
       "      <td>A32012</td>\n",
       "      <td>700 Commonwealth Ave.</td>\n",
       "      <td>B32060</td>\n",
       "      <td>42.352261</td>\n",
       "      <td>-71.123831</td>\n",
       "      <td>42.349609</td>\n",
       "      <td>-71.103915</td>\n",
       "      <td>casual</td>\n",
       "    </tr>\n",
       "    <tr>\n",
       "      <th>28860</th>\n",
       "      <td>E0D220CA7145BDF9</td>\n",
       "      <td>classic_bike</td>\n",
       "      <td>2023-12-01 01:15:00</td>\n",
       "      <td>2023-12-01 01:22:00</td>\n",
       "      <td>Packard's Corner - Commonwealth Ave at Brighto...</td>\n",
       "      <td>A32012</td>\n",
       "      <td>700 Commonwealth Ave.</td>\n",
       "      <td>B32060</td>\n",
       "      <td>42.352261</td>\n",
       "      <td>-71.123831</td>\n",
       "      <td>42.349609</td>\n",
       "      <td>-71.103915</td>\n",
       "      <td>member</td>\n",
       "    </tr>\n",
       "    <tr>\n",
       "      <th>119650</th>\n",
       "      <td>4944BCD236A26D14</td>\n",
       "      <td>classic_bike</td>\n",
       "      <td>2023-12-01 02:40:00</td>\n",
       "      <td>2023-12-01 02:45:00</td>\n",
       "      <td>Harvard Ave at Brainerd Rd</td>\n",
       "      <td>D32035</td>\n",
       "      <td>Coolidge Corner - Beacon St at Centre St</td>\n",
       "      <td>K32001</td>\n",
       "      <td>42.349530</td>\n",
       "      <td>-71.130227</td>\n",
       "      <td>42.341598</td>\n",
       "      <td>-71.123338</td>\n",
       "      <td>casual</td>\n",
       "    </tr>\n",
       "  </tbody>\n",
       "</table>\n",
       "</div>"
      ],
      "text/plain": [
       "                 ride_id rideable_type          started_at  \\\n",
       "28856   C877B624309A9762  classic_bike 2023-12-01 00:05:00   \n",
       "143824  BE6AEA9F1D66A809  classic_bike 2023-12-01 00:12:00   \n",
       "9517    E6BE45CE073C3CB6  classic_bike 2023-12-01 00:46:00   \n",
       "28860   E0D220CA7145BDF9  classic_bike 2023-12-01 01:15:00   \n",
       "119650  4944BCD236A26D14  classic_bike 2023-12-01 02:40:00   \n",
       "\n",
       "                  ended_at                                 start_station_name  \\\n",
       "28856  2023-12-01 00:13:00  Packard's Corner - Commonwealth Ave at Brighto...   \n",
       "143824 2023-12-01 00:34:00                          Tremont St at Hamilton Pl   \n",
       "9517   2023-12-01 00:51:00  Packard's Corner - Commonwealth Ave at Brighto...   \n",
       "28860  2023-12-01 01:22:00  Packard's Corner - Commonwealth Ave at Brighto...   \n",
       "119650 2023-12-01 02:45:00                         Harvard Ave at Brainerd Rd   \n",
       "\n",
       "       start_station_id                                   end_station_name  \\\n",
       "28856            A32012                              700 Commonwealth Ave.   \n",
       "143824           B32056  Packard's Corner - Commonwealth Ave at Brighto...   \n",
       "9517             A32012                              700 Commonwealth Ave.   \n",
       "28860            A32012                              700 Commonwealth Ave.   \n",
       "119650           D32035           Coolidge Corner - Beacon St at Centre St   \n",
       "\n",
       "       end_station_id  start_lat  start_lng    end_lat    end_lng  \\\n",
       "28856          B32060  42.352261 -71.123831  42.349609 -71.103915   \n",
       "143824         A32012  42.356683 -71.061666  42.352261 -71.123831   \n",
       "9517           B32060  42.352261 -71.123831  42.349609 -71.103915   \n",
       "28860          B32060  42.352261 -71.123831  42.349609 -71.103915   \n",
       "119650         K32001  42.349530 -71.130227  42.341598 -71.123338   \n",
       "\n",
       "       member_casual  \n",
       "28856         casual  \n",
       "143824        casual  \n",
       "9517          casual  \n",
       "28860         member  \n",
       "119650        casual  "
      ]
     },
     "execution_count": 79,
     "metadata": {},
     "output_type": "execute_result"
    }
   ],
   "source": [
    "# convert start and end time to datetime\n",
    "filtered_trip_data['started_at'] = pd.to_datetime(filtered_trip_data.loc[:,'started_at'])\n",
    "filtered_trip_data['ended_at'] = pd.to_datetime(filtered_trip_data.loc[:,'ended_at'])\n",
    "\n",
    "# sort by start time\n",
    "filtered_trip_data.sort_values('started_at', inplace=True)\n",
    "\n",
    "# remove rideable_type column\n",
    "filtered_trip_data.drop('rideable_type', axis=1, inplace=True)\n",
    "\n",
    "filtered_trip_data.head()"
   ]
  },
  {
   "cell_type": "markdown",
   "metadata": {},
   "source": [
    "### Aggregate Trip Data"
   ]
  },
  {
   "cell_type": "markdown",
   "metadata": {},
   "source": [
    "To guess the number of bikes available at a station, I will split the arrivals and departures for each station and round them into intervals."
   ]
  },
  {
   "cell_type": "code",
   "execution_count": null,
   "metadata": {},
   "outputs": [],
   "source": []
  },
  {
   "cell_type": "markdown",
   "metadata": {},
   "source": [
    "### Trip Data Inspection"
   ]
  },
  {
   "cell_type": "markdown",
   "metadata": {},
   "source": [
    "## Trip and Weather Relation"
   ]
  },
  {
   "cell_type": "code",
   "execution_count": null,
   "metadata": {},
   "outputs": [],
   "source": []
  },
  {
   "cell_type": "markdown",
   "metadata": {},
   "source": [
    "## Prediction Model"
   ]
  }
 ],
 "metadata": {
  "language_info": {
   "name": "python"
  }
 },
 "nbformat": 4,
 "nbformat_minor": 2
}

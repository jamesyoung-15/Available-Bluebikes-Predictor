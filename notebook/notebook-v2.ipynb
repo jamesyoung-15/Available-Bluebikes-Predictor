{
 "cells": [
  {
   "cell_type": "markdown",
   "metadata": {},
   "source": [
    "# Available Bluebikes Predictor"
   ]
  },
  {
   "cell_type": "markdown",
   "metadata": {},
   "source": [
    "My hobby project to predict the number of available bluebikes in 3 stations near my home using historical trip data and weather data"
   ]
  },
  {
   "cell_type": "code",
   "execution_count": 1,
   "metadata": {},
   "outputs": [],
   "source": [
    "import pandas as pd\n",
    "import numpy as np\n",
    "import matplotlib.pyplot as plt\n",
    "import matplotlib.dates as mdates\n",
    "import seaborn as sns\n",
    "from datetime import datetime\n",
    "import os\n",
    "from trip_data import get_data"
   ]
  },
  {
   "cell_type": "markdown",
   "metadata": {},
   "source": [
    "## Extract and Combine Historical Bluebike Trip Data"
   ]
  },
  {
   "cell_type": "markdown",
   "metadata": {},
   "source": [
    "Trip data consists of all Bluebike trips from Dec. 2023 to Jan. 2025."
   ]
  },
  {
   "cell_type": "code",
   "execution_count": 2,
   "metadata": {},
   "outputs": [],
   "source": [
    "# init data and download trip data csv files\n",
    "\n",
    "data_path = './trip_data'\n",
    "\n",
    "# trip data range, currently using 2023 Dec to 2025 Jan\n",
    "start_year = 2024\n",
    "end_year = 2025\n",
    "start_month = 1\n",
    "end_month = 1\n",
    "start_date = datetime(start_year, start_month, 1)\n",
    "end_date = datetime(end_year, end_month, 1)\n",
    "current_date = start_date\n",
    "\n",
    "# weather csv filename\n",
    "weather_csv = f\"{start_date.strftime('%Y%m%d')}-{datetime(end_date.year, end_month+1, 1).strftime('%Y%m%d')}-weather-data.csv\""
   ]
  },
  {
   "cell_type": "code",
   "execution_count": 108,
   "metadata": {},
   "outputs": [
    {
     "name": "stdout",
     "output_type": "stream",
     "text": [
      "Downloading weather data from OpenMeteo...\n",
      "Downloaded weather data: ./trip_data/20240101-20250201-weather-data.csv\n"
     ]
    }
   ],
   "source": [
    "get_data.get_weather_data(start_year, start_month, end_year, end_month+1, data_path)"
   ]
  },
  {
   "cell_type": "code",
   "execution_count": 6,
   "metadata": {},
   "outputs": [
    {
     "name": "stdout",
     "output_type": "stream",
     "text": [
      "https://s3.amazonaws.com/hubway-data/202312-bluebikes-tripdata.zip\n",
      "Downloading: https://s3.amazonaws.com/hubway-data/202312-bluebikes-tripdata.zip\n",
      "Downloaded: ./trip_data/202312-bluebikes-tripdata.zip\n",
      "Extracted: 202312-bluebikes-tripdata.csv to ./trip_data\n",
      "Deleted zip file: ./trip_data/202312-bluebikes-tripdata.zip\n",
      "https://s3.amazonaws.com/hubway-data/202401-bluebikes-tripdata.zip\n",
      "Downloading: https://s3.amazonaws.com/hubway-data/202401-bluebikes-tripdata.zip\n",
      "Downloaded: ./trip_data/202401-bluebikes-tripdata.zip\n",
      "Extracted: 202401-bluebikes-tripdata.csv to ./trip_data\n",
      "Deleted zip file: ./trip_data/202401-bluebikes-tripdata.zip\n",
      "https://s3.amazonaws.com/hubway-data/202402-bluebikes-tripdata.zip\n",
      "Downloading: https://s3.amazonaws.com/hubway-data/202402-bluebikes-tripdata.zip\n",
      "Downloaded: ./trip_data/202402-bluebikes-tripdata.zip\n",
      "Extracted: 202402-bluebikes-tripdata.csv to ./trip_data\n",
      "Deleted zip file: ./trip_data/202402-bluebikes-tripdata.zip\n",
      "https://s3.amazonaws.com/hubway-data/202403-bluebikes-tripdata.zip\n",
      "Downloading: https://s3.amazonaws.com/hubway-data/202403-bluebikes-tripdata.zip\n",
      "Downloaded: ./trip_data/202403-bluebikes-tripdata.zip\n",
      "Extracted: 202403-bluebikes-tripdata.csv to ./trip_data\n",
      "Deleted zip file: ./trip_data/202403-bluebikes-tripdata.zip\n",
      "https://s3.amazonaws.com/hubway-data/202404-bluebikes-tripdata.zip\n",
      "Downloading: https://s3.amazonaws.com/hubway-data/202404-bluebikes-tripdata.zip\n",
      "Downloaded: ./trip_data/202404-bluebikes-tripdata.zip\n",
      "Extracted: 202404-bluebikes-tripdata.csv to ./trip_data\n",
      "Deleted zip file: ./trip_data/202404-bluebikes-tripdata.zip\n",
      "https://s3.amazonaws.com/hubway-data/202405-bluebikes-tripdata.zip\n",
      "Downloading: https://s3.amazonaws.com/hubway-data/202405-bluebikes-tripdata.zip\n",
      "Downloaded: ./trip_data/202405-bluebikes-tripdata.zip\n",
      "Extracted: 202405-bluebikes-tripdata.csv to ./trip_data\n",
      "Deleted zip file: ./trip_data/202405-bluebikes-tripdata.zip\n",
      "https://s3.amazonaws.com/hubway-data/202406-bluebikes-tripdata.zip\n",
      "Downloading: https://s3.amazonaws.com/hubway-data/202406-bluebikes-tripdata.zip\n",
      "Downloaded: ./trip_data/202406-bluebikes-tripdata.zip\n",
      "Extracted: 202406-bluebikes-tripdata.csv to ./trip_data\n",
      "Deleted zip file: ./trip_data/202406-bluebikes-tripdata.zip\n",
      "https://s3.amazonaws.com/hubway-data/202407-bluebikes-tripdata.zip\n",
      "Downloading: https://s3.amazonaws.com/hubway-data/202407-bluebikes-tripdata.zip\n",
      "Downloaded: ./trip_data/202407-bluebikes-tripdata.zip\n",
      "Extracted: 202407-bluebikes-tripdata.csv to ./trip_data\n",
      "Deleted zip file: ./trip_data/202407-bluebikes-tripdata.zip\n",
      "https://s3.amazonaws.com/hubway-data/202408-bluebikes-tripdata.zip\n",
      "Downloading: https://s3.amazonaws.com/hubway-data/202408-bluebikes-tripdata.zip\n",
      "Downloaded: ./trip_data/202408-bluebikes-tripdata.zip\n",
      "Extracted: 202408-bluebikes-tripdata.csv to ./trip_data\n",
      "Deleted zip file: ./trip_data/202408-bluebikes-tripdata.zip\n",
      "https://s3.amazonaws.com/hubway-data/202409-bluebikes-tripdata.zip\n",
      "Downloading: https://s3.amazonaws.com/hubway-data/202409-bluebikes-tripdata.zip\n",
      "Downloaded: ./trip_data/202409-bluebikes-tripdata.zip\n",
      "Extracted: 202409-bluebikes-tripdata.csv to ./trip_data\n",
      "Deleted zip file: ./trip_data/202409-bluebikes-tripdata.zip\n",
      "https://s3.amazonaws.com/hubway-data/202410-bluebikes-tripdata.zip\n",
      "Downloading: https://s3.amazonaws.com/hubway-data/202410-bluebikes-tripdata.zip\n",
      "Downloaded: ./trip_data/202410-bluebikes-tripdata.zip\n",
      "Extracted: 202410-bluebikes-tripdata.csv to ./trip_data\n",
      "Deleted zip file: ./trip_data/202410-bluebikes-tripdata.zip\n",
      "https://s3.amazonaws.com/hubway-data/202411-bluebikes-tripdata.zip\n",
      "Downloading: https://s3.amazonaws.com/hubway-data/202411-bluebikes-tripdata.zip\n",
      "Downloaded: ./trip_data/202411-bluebikes-tripdata.zip\n",
      "Extracted: 202411-bluebikes-tripdata.csv to ./trip_data\n",
      "Deleted zip file: ./trip_data/202411-bluebikes-tripdata.zip\n",
      "https://s3.amazonaws.com/hubway-data/202412-bluebikes-tripdata.zip\n",
      "Downloading: https://s3.amazonaws.com/hubway-data/202412-bluebikes-tripdata.zip\n",
      "Downloaded: ./trip_data/202412-bluebikes-tripdata.zip\n",
      "Extracted: 202412-bluebikes-tripdata.csv to ./trip_data\n",
      "Deleted zip file: ./trip_data/202412-bluebikes-tripdata.zip\n",
      "https://s3.amazonaws.com/hubway-data/202501-bluebikes-tripdata.zip\n",
      "Downloading: https://s3.amazonaws.com/hubway-data/202501-bluebikes-tripdata.zip\n",
      "Downloaded: ./trip_data/202501-bluebikes-tripdata.zip\n",
      "Extracted: 202501-bluebikes-tripdata.csv to ./trip_data\n",
      "Deleted zip file: ./trip_data/202501-bluebikes-tripdata.zip\n"
     ]
    }
   ],
   "source": [
    "get_data.get_bluebikes_trip_data(start_year,start_month,end_year,end_month,data_path)"
   ]
  },
  {
   "cell_type": "markdown",
   "metadata": {},
   "source": [
    "## Weather Data"
   ]
  },
  {
   "cell_type": "code",
   "execution_count": 3,
   "metadata": {},
   "outputs": [
    {
     "data": {
      "text/html": [
       "<div>\n",
       "<style scoped>\n",
       "    .dataframe tbody tr th:only-of-type {\n",
       "        vertical-align: middle;\n",
       "    }\n",
       "\n",
       "    .dataframe tbody tr th {\n",
       "        vertical-align: top;\n",
       "    }\n",
       "\n",
       "    .dataframe thead th {\n",
       "        text-align: right;\n",
       "    }\n",
       "</style>\n",
       "<table border=\"1\" class=\"dataframe\">\n",
       "  <thead>\n",
       "    <tr style=\"text-align: right;\">\n",
       "      <th></th>\n",
       "      <th>time</th>\n",
       "      <th>temperature</th>\n",
       "      <th>precipitation</th>\n",
       "    </tr>\n",
       "  </thead>\n",
       "  <tbody>\n",
       "    <tr>\n",
       "      <th>0</th>\n",
       "      <td>2024-01-01 00:00:00</td>\n",
       "      <td>-2.500</td>\n",
       "      <td>0.000</td>\n",
       "    </tr>\n",
       "    <tr>\n",
       "      <th>1</th>\n",
       "      <td>2024-01-01 00:15:00</td>\n",
       "      <td>-2.550</td>\n",
       "      <td>0.000</td>\n",
       "    </tr>\n",
       "    <tr>\n",
       "      <th>2</th>\n",
       "      <td>2024-01-01 00:30:00</td>\n",
       "      <td>-2.600</td>\n",
       "      <td>0.000</td>\n",
       "    </tr>\n",
       "    <tr>\n",
       "      <th>3</th>\n",
       "      <td>2024-01-01 00:45:00</td>\n",
       "      <td>-2.650</td>\n",
       "      <td>0.000</td>\n",
       "    </tr>\n",
       "    <tr>\n",
       "      <th>4</th>\n",
       "      <td>2024-01-01 01:00:00</td>\n",
       "      <td>-2.700</td>\n",
       "      <td>0.000</td>\n",
       "    </tr>\n",
       "    <tr>\n",
       "      <th>...</th>\n",
       "      <td>...</td>\n",
       "      <td>...</td>\n",
       "      <td>...</td>\n",
       "    </tr>\n",
       "    <tr>\n",
       "      <th>38107</th>\n",
       "      <td>2025-01-31 22:45:00</td>\n",
       "      <td>0.675</td>\n",
       "      <td>1.025</td>\n",
       "    </tr>\n",
       "    <tr>\n",
       "      <th>38108</th>\n",
       "      <td>2025-01-31 23:00:00</td>\n",
       "      <td>0.600</td>\n",
       "      <td>1.000</td>\n",
       "    </tr>\n",
       "    <tr>\n",
       "      <th>38109</th>\n",
       "      <td>2025-01-31 23:15:00</td>\n",
       "      <td>0.575</td>\n",
       "      <td>0.950</td>\n",
       "    </tr>\n",
       "    <tr>\n",
       "      <th>38110</th>\n",
       "      <td>2025-01-31 23:30:00</td>\n",
       "      <td>0.550</td>\n",
       "      <td>0.900</td>\n",
       "    </tr>\n",
       "    <tr>\n",
       "      <th>38111</th>\n",
       "      <td>2025-01-31 23:45:00</td>\n",
       "      <td>0.525</td>\n",
       "      <td>0.850</td>\n",
       "    </tr>\n",
       "  </tbody>\n",
       "</table>\n",
       "<p>38112 rows × 3 columns</p>\n",
       "</div>"
      ],
      "text/plain": [
       "                     time  temperature  precipitation\n",
       "0     2024-01-01 00:00:00       -2.500          0.000\n",
       "1     2024-01-01 00:15:00       -2.550          0.000\n",
       "2     2024-01-01 00:30:00       -2.600          0.000\n",
       "3     2024-01-01 00:45:00       -2.650          0.000\n",
       "4     2024-01-01 01:00:00       -2.700          0.000\n",
       "...                   ...          ...            ...\n",
       "38107 2025-01-31 22:45:00        0.675          1.025\n",
       "38108 2025-01-31 23:00:00        0.600          1.000\n",
       "38109 2025-01-31 23:15:00        0.575          0.950\n",
       "38110 2025-01-31 23:30:00        0.550          0.900\n",
       "38111 2025-01-31 23:45:00        0.525          0.850\n",
       "\n",
       "[38112 rows x 3 columns]"
      ]
     },
     "execution_count": 3,
     "metadata": {},
     "output_type": "execute_result"
    }
   ],
   "source": [
    "weather_df = pd.read_csv(data_path + '/' + weather_csv, skiprows=2)\n",
    "\n",
    "# rename columns\n",
    "weather_df = weather_df.rename(columns={\n",
    "    'temperature_2m (°C)': 'temperature',\n",
    "    'precipitation (mm)': 'precipitation',\n",
    "})\n",
    "\n",
    "\n",
    "# convert time to datetime\n",
    "weather_df['time'] = pd.to_datetime(weather_df['time'])\n",
    "\n",
    "# interpolate weather data to 15 min intervals\n",
    "weather_df_interpolated = weather_df.set_index('time').resample('15min').interpolate()\n",
    "\n",
    "# reset index\n",
    "weather_df_interpolated = weather_df_interpolated.reset_index()\n",
    "\n",
    "# drop Feb 1 2025 data\n",
    "weather_df_interpolated = weather_df_interpolated[weather_df_interpolated['time'].dt.date != datetime(2025, 2, 1).date()]\n",
    "\n",
    "\n",
    "weather_df_interpolated"
   ]
  },
  {
   "cell_type": "markdown",
   "metadata": {},
   "source": [
    "Quick Visualization of Weather"
   ]
  },
  {
   "cell_type": "code",
   "execution_count": 4,
   "metadata": {},
   "outputs": [
    {
     "data": {
      "image/png": "[encoded data removed]",
      "text/plain": [
       "<Figure size 600x300 with 1 Axes>"
      ]
     },
     "metadata": {},
     "output_type": "display_data"
    }
   ],
   "source": [
    "# Plot temperature over time\n",
    "plt.figure(figsize=(6, 3))\n",
    "sns.lineplot(x='time', y='temperature', data=weather_df_interpolated, color='red', label='Temperature')\n",
    "plt.title('Temperature Over Time', fontsize=16)\n",
    "plt.xlabel('Time', fontsize=10)\n",
    "plt.ylabel('Temperature (°C)', fontsize=12)\n",
    "plt.xticks(rotation=45)\n",
    "plt.xlim(start_date, datetime(end_year, end_month+1,1))\n",
    "plt.gca().xaxis.set_major_locator(mdates.MonthLocator(interval=1))\n",
    "plt.legend()\n",
    "plt.grid(visible=True)\n",
    "plt.show()"
   ]
  },
  {
   "cell_type": "code",
   "execution_count": 5,
   "metadata": {},
   "outputs": [
    {
     "data": {
      "image/png": "[encoded data removed]",
      "text/plain": [
       "<Figure size 600x300 with 1 Axes>"
      ]
     },
     "metadata": {},
     "output_type": "display_data"
    }
   ],
   "source": [
    "# Plot temperature over time\n",
    "plt.figure(figsize=(6, 3))\n",
    "sns.lineplot(x='time', y='precipitation', data=weather_df_interpolated, color='blue', label='Temperature')\n",
    "plt.title('Precipitation Over Time', fontsize=16)\n",
    "plt.xlabel('Time', fontsize=10)\n",
    "plt.ylabel('Precipitation (mm)', fontsize=12)\n",
    "plt.xticks(rotation=45)\n",
    "plt.xlim(start_date, datetime(end_year, end_month+1,1))\n",
    "plt.gca().xaxis.set_major_locator(mdates.MonthLocator(interval=1))\n",
    "plt.legend()\n",
    "plt.grid(visible=True)\n",
    "plt.show()"
   ]
  },
  {
   "cell_type": "markdown",
   "metadata": {},
   "source": [
    "## Trip Data"
   ]
  },
  {
   "cell_type": "markdown",
   "metadata": {},
   "source": [
    "Load and combine trip CSVs into one dataframe"
   ]
  },
  {
   "cell_type": "code",
   "execution_count": 6,
   "metadata": {},
   "outputs": [],
   "source": [
    "# combine all trip data into one dataframe\n",
    "data_frames = []\n",
    "\n",
    "current_date = start_date\n",
    "\n",
    "while current_date <= end_date:\n",
    "    file = f\"{current_date.strftime('%Y%m')}-bluebikes-tripdata.csv\"\n",
    "    file_path = os.path.join(data_path, file)\n",
    "    df = pd.read_csv(file_path)\n",
    "    data_frames.append(df)\n",
    "\n",
    "    if current_date.month == 12:\n",
    "            current_date = datetime(current_date.year + 1, 1, 1)\n",
    "    else:\n",
    "        current_date = datetime(current_date.year, current_date.month + 1, 1)\n",
    "\n",
    "trip_data_df = pd.concat(data_frames, ignore_index=True)"
   ]
  },
  {
   "cell_type": "markdown",
   "metadata": {},
   "source": [
    "Filter trips to only include stations near my home"
   ]
  },
  {
   "cell_type": "code",
   "execution_count": 7,
   "metadata": {},
   "outputs": [],
   "source": [
    "# bluebike stations near me\n",
    "# \"A32012\" : \"Packard's Corner - Commonwealth Ave at Brighton Ave\",\n",
    "# \"E32016\" : \"Commonwealth Ave at Naples Rd\",\n",
    "# \"D32035\" : \"Harvard Ave at Brainerd Rd\",\n",
    "stations_of_interest = [\"A32012\", \"E32016\", \"D32035\"]\n",
    "stations_docks = {\n",
    "    \"A32012\" : 26,\n",
    "    \"E32016\" : 19,\n",
    "    \"D32035\" : 19\n",
    "}\n",
    "\n",
    "# filter trips that start or end at my stations\n",
    "filtered_trip_data = trip_data_df[trip_data_df['start_station_id'].isin(stations_of_interest) | trip_data_df['end_station_id'].isin(stations_of_interest)].copy()"
   ]
  },
  {
   "cell_type": "code",
   "execution_count": 8,
   "metadata": {},
   "outputs": [],
   "source": [
    "# remove milliseconds from start and end time\n",
    "filtered_trip_data.loc[:, 'started_at'] = filtered_trip_data.started_at.str[:16]\n",
    "filtered_trip_data.loc[:, 'ended_at'] = filtered_trip_data.ended_at.str[:16]"
   ]
  },
  {
   "cell_type": "code",
   "execution_count": 9,
   "metadata": {},
   "outputs": [
    {
     "data": {
      "text/html": [
       "<div>\n",
       "<style scoped>\n",
       "    .dataframe tbody tr th:only-of-type {\n",
       "        vertical-align: middle;\n",
       "    }\n",
       "\n",
       "    .dataframe tbody tr th {\n",
       "        vertical-align: top;\n",
       "    }\n",
       "\n",
       "    .dataframe thead th {\n",
       "        text-align: right;\n",
       "    }\n",
       "</style>\n",
       "<table border=\"1\" class=\"dataframe\">\n",
       "  <thead>\n",
       "    <tr style=\"text-align: right;\">\n",
       "      <th></th>\n",
       "      <th>ride_id</th>\n",
       "      <th>started_at</th>\n",
       "      <th>ended_at</th>\n",
       "      <th>start_station_name</th>\n",
       "      <th>start_station_id</th>\n",
       "      <th>end_station_name</th>\n",
       "      <th>end_station_id</th>\n",
       "      <th>start_lat</th>\n",
       "      <th>start_lng</th>\n",
       "      <th>end_lat</th>\n",
       "      <th>end_lng</th>\n",
       "    </tr>\n",
       "  </thead>\n",
       "  <tbody>\n",
       "    <tr>\n",
       "      <th>119455</th>\n",
       "      <td>04CDE2025D36951C</td>\n",
       "      <td>2024-01-01 00:50:00</td>\n",
       "      <td>2024-01-01 01:17:00</td>\n",
       "      <td>Union Square - Somerville</td>\n",
       "      <td>S32002</td>\n",
       "      <td>Harvard Ave at Brainerd Rd</td>\n",
       "      <td>D32035</td>\n",
       "      <td>42.379648</td>\n",
       "      <td>-71.095405</td>\n",
       "      <td>42.349530</td>\n",
       "      <td>-71.130228</td>\n",
       "    </tr>\n",
       "    <tr>\n",
       "      <th>96340</th>\n",
       "      <td>A2CACFC2A1914B69</td>\n",
       "      <td>2024-01-01 01:13:00</td>\n",
       "      <td>2024-01-01 01:29:00</td>\n",
       "      <td>Kenmore Square</td>\n",
       "      <td>B32010</td>\n",
       "      <td>Packard's Corner - Commonwealth Ave at Brighto...</td>\n",
       "      <td>A32012</td>\n",
       "      <td>42.348706</td>\n",
       "      <td>-71.097009</td>\n",
       "      <td>42.352261</td>\n",
       "      <td>-71.123831</td>\n",
       "    </tr>\n",
       "    <tr>\n",
       "      <th>83237</th>\n",
       "      <td>11CAC8544CB09F8E</td>\n",
       "      <td>2024-01-01 01:14:00</td>\n",
       "      <td>2024-01-01 01:21:00</td>\n",
       "      <td>Old Morse Park at Putnam Ave</td>\n",
       "      <td>M32076</td>\n",
       "      <td>Packard's Corner - Commonwealth Ave at Brighto...</td>\n",
       "      <td>A32012</td>\n",
       "      <td>42.357662</td>\n",
       "      <td>-71.108413</td>\n",
       "      <td>42.352261</td>\n",
       "      <td>-71.123831</td>\n",
       "    </tr>\n",
       "    <tr>\n",
       "      <th>47908</th>\n",
       "      <td>18429169FA12A03F</td>\n",
       "      <td>2024-01-01 01:16:00</td>\n",
       "      <td>2024-01-01 01:24:00</td>\n",
       "      <td>Commonwealth Ave at Naples Rd</td>\n",
       "      <td>E32016</td>\n",
       "      <td>MIT Vassar St</td>\n",
       "      <td>M32042</td>\n",
       "      <td>42.351911</td>\n",
       "      <td>-71.123798</td>\n",
       "      <td>42.355601</td>\n",
       "      <td>-71.103945</td>\n",
       "    </tr>\n",
       "    <tr>\n",
       "      <th>16161</th>\n",
       "      <td>BD88B024C011CEA5</td>\n",
       "      <td>2024-01-01 01:22:00</td>\n",
       "      <td>2024-01-01 01:25:00</td>\n",
       "      <td>Commonwealth Ave at Kelton St</td>\n",
       "      <td>D32034</td>\n",
       "      <td>Harvard Ave at Brainerd Rd</td>\n",
       "      <td>D32035</td>\n",
       "      <td>42.348359</td>\n",
       "      <td>-71.139972</td>\n",
       "      <td>42.349530</td>\n",
       "      <td>-71.130228</td>\n",
       "    </tr>\n",
       "  </tbody>\n",
       "</table>\n",
       "</div>"
      ],
      "text/plain": [
       "                 ride_id          started_at            ended_at  \\\n",
       "119455  04CDE2025D36951C 2024-01-01 00:50:00 2024-01-01 01:17:00   \n",
       "96340   A2CACFC2A1914B69 2024-01-01 01:13:00 2024-01-01 01:29:00   \n",
       "83237   11CAC8544CB09F8E 2024-01-01 01:14:00 2024-01-01 01:21:00   \n",
       "47908   18429169FA12A03F 2024-01-01 01:16:00 2024-01-01 01:24:00   \n",
       "16161   BD88B024C011CEA5 2024-01-01 01:22:00 2024-01-01 01:25:00   \n",
       "\n",
       "                   start_station_name start_station_id  \\\n",
       "119455      Union Square - Somerville           S32002   \n",
       "96340                  Kenmore Square           B32010   \n",
       "83237    Old Morse Park at Putnam Ave           M32076   \n",
       "47908   Commonwealth Ave at Naples Rd           E32016   \n",
       "16161   Commonwealth Ave at Kelton St           D32034   \n",
       "\n",
       "                                         end_station_name end_station_id  \\\n",
       "119455                         Harvard Ave at Brainerd Rd         D32035   \n",
       "96340   Packard's Corner - Commonwealth Ave at Brighto...         A32012   \n",
       "83237   Packard's Corner - Commonwealth Ave at Brighto...         A32012   \n",
       "47908                                       MIT Vassar St         M32042   \n",
       "16161                          Harvard Ave at Brainerd Rd         D32035   \n",
       "\n",
       "        start_lat  start_lng    end_lat    end_lng  \n",
       "119455  42.379648 -71.095405  42.349530 -71.130228  \n",
       "96340   42.348706 -71.097009  42.352261 -71.123831  \n",
       "83237   42.357662 -71.108413  42.352261 -71.123831  \n",
       "47908   42.351911 -71.123798  42.355601 -71.103945  \n",
       "16161   42.348359 -71.139972  42.349530 -71.130228  "
      ]
     },
     "execution_count": 9,
     "metadata": {},
     "output_type": "execute_result"
    }
   ],
   "source": [
    "# convert start and end time to datetime\n",
    "filtered_trip_data['started_at'] = pd.to_datetime(filtered_trip_data.loc[:,'started_at'])\n",
    "filtered_trip_data['ended_at'] = pd.to_datetime(filtered_trip_data.loc[:,'ended_at'])\n",
    "\n",
    "# sort by start time\n",
    "filtered_trip_data.sort_values('started_at', inplace=True)\n",
    "\n",
    "# remove rideable_type, member_casual columns\n",
    "filtered_trip_data.drop('rideable_type', axis=1, inplace=True)\n",
    "filtered_trip_data.drop('member_casual', axis=1, inplace=True)\n",
    "\n",
    "\n",
    "\n",
    "filtered_trip_data.head()"
   ]
  },
  {
   "cell_type": "markdown",
   "metadata": {},
   "source": [
    "### Aggregate Trip Data"
   ]
  },
  {
   "cell_type": "markdown",
   "metadata": {},
   "source": [
    "To guess the number of bikes available at a station, I will split the arrivals and departures for each station and round them into intervals."
   ]
  },
  {
   "cell_type": "markdown",
   "metadata": {},
   "source": [
    "### Trip Data Inspection"
   ]
  },
  {
   "cell_type": "markdown",
   "metadata": {},
   "source": [
    "## Trip and Weather Relation"
   ]
  },
  {
   "cell_type": "markdown",
   "metadata": {},
   "source": [
    "Below I will inspect relationship between number of trips and weather data."
   ]
  },
  {
   "cell_type": "code",
   "execution_count": null,
   "metadata": {},
   "outputs": [],
   "source": []
  },
  {
   "cell_type": "markdown",
   "metadata": {},
   "source": [
    "## Prediction Model"
   ]
  },
  {
   "cell_type": "markdown",
   "metadata": {},
   "source": []
  },
  {
   "cell_type": "code",
   "execution_count": null,
   "metadata": {},
   "outputs": [],
   "source": []
  }
 ],
 "metadata": {
  "language_info": {
   "name": "python"
  }
 },
 "nbformat": 4,
 "nbformat_minor": 2
}
